{
  "nbformat": 4,
  "nbformat_minor": 0,
  "metadata": {
    "colab": {
      "name": "END2.0 Session 1.ipynb",
      "provenance": [],
      "include_colab_link": true
    },
    "kernelspec": {
      "name": "python3",
      "display_name": "Python 3"
    },
    "language_info": {
      "name": "python"
    }
  },
  "cells": [
    {
      "cell_type": "markdown",
      "metadata": {
        "id": "view-in-github",
        "colab_type": "text"
      },
      "source": [
        "<a href=\"https://colab.research.google.com/github/ckgpeace/END2/blob/main/Session_1.ipynb\" target=\"_parent\"><img src=\"https://colab.research.google.com/assets/colab-badge.svg\" alt=\"Open In Colab\"/></a>"
      ]
    },
    {
      "cell_type": "code",
      "metadata": {
        "colab": {
          "base_uri": "https://localhost:8080/"
        },
        "id": "GC_6PeobwwkH",
        "outputId": "26fe9fd3-3947-4603-826f-ebd3b19d671f"
      },
      "source": [
        "import torch\n",
        "from torch.autograd import Variable\n",
        "import torch.nn as nn\n",
        "import torch.nn.functional as F\n",
        "import torch.optim as optim\n",
        "import numpy as np\n",
        "import matplotlib.pyplot as plt\n",
        "%matplotlib inline\n",
        "torch.manual_seed(2)"
      ],
      "execution_count": 1,
      "outputs": [
        {
          "output_type": "execute_result",
          "data": {
            "text/plain": [
              "<torch._C.Generator at 0x7fdc42c458d0>"
            ]
          },
          "metadata": {
            "tags": []
          },
          "execution_count": 1
        }
      ]
    },
    {
      "cell_type": "code",
      "metadata": {
        "id": "bL64bMTkw2GP"
      },
      "source": [
        "X = torch.Tensor([[0,0], [0,1], [1,0], [1,1]])\n",
        "Y = torch.Tensor([0, 1, 1, 0]).view(-1,1)"
      ],
      "execution_count": 3,
      "outputs": []
    },
    {
      "cell_type": "code",
      "metadata": {
        "id": "aC82kEAIw3Wf"
      },
      "source": [
        "class XAND(nn.Module):\n",
        "    def __init__(self, input_dim = 2, output_dim=1):\n",
        "        super(XAND, self).__init__()\n",
        "        self.lin1 = nn.Linear(input_dim, 10)\n",
        "        self.lin2 = nn.Linear(10, output_dim, bias = False)\n",
        "        # self.lin3 = nn.Linear(4, output_dim)\n",
        "    \n",
        "    def forward(self, x):\n",
        "        x = self.lin1(x)\n",
        "        x = F.tanh(x)\n",
        "        x = self.lin2(x)\n",
        "        # x = F.tanh(x)\n",
        "        # x = self.lin3(x)\n",
        "        return x"
      ],
      "execution_count": 89,
      "outputs": []
    },
    {
      "cell_type": "code",
      "metadata": {
        "colab": {
          "base_uri": "https://localhost:8080/"
        },
        "id": "8gQIQExYw65K",
        "outputId": "c43e375c-428c-4ee1-e417-9e831973fd9d"
      },
      "source": [
        "model = XAND()\n",
        "print(model)\n",
        "from torchsummary import summary\n",
        "summary(model, (2,2))"
      ],
      "execution_count": 90,
      "outputs": [
        {
          "output_type": "stream",
          "text": [
            "XAND(\n",
            "  (lin1): Linear(in_features=2, out_features=10, bias=True)\n",
            "  (lin2): Linear(in_features=10, out_features=1, bias=False)\n",
            ")\n",
            "----------------------------------------------------------------\n",
            "        Layer (type)               Output Shape         Param #\n",
            "================================================================\n",
            "            Linear-1                [-1, 2, 10]              30\n",
            "            Linear-2                 [-1, 2, 1]              10\n",
            "================================================================\n",
            "Total params: 40\n",
            "Trainable params: 40\n",
            "Non-trainable params: 0\n",
            "----------------------------------------------------------------\n",
            "Input size (MB): 0.00\n",
            "Forward/backward pass size (MB): 0.00\n",
            "Params size (MB): 0.00\n",
            "Estimated Total Size (MB): 0.00\n",
            "----------------------------------------------------------------\n"
          ],
          "name": "stdout"
        },
        {
          "output_type": "stream",
          "text": [
            "/usr/local/lib/python3.7/dist-packages/torch/nn/functional.py:1698: UserWarning: nn.functional.tanh is deprecated. Use torch.tanh instead.\n",
            "  warnings.warn(\"nn.functional.tanh is deprecated. Use torch.tanh instead.\")\n"
          ],
          "name": "stderr"
        }
      ]
    },
    {
      "cell_type": "code",
      "metadata": {
        "id": "yeotEq19x6XF"
      },
      "source": [
        "def weights_init(model):\n",
        "    for m in model.modules():\n",
        "        if isinstance(m, nn.Linear):\n",
        "            # initialize the weight tensor, here we use a normal distribution\n",
        "            m.weight.data.normal_(0, 1)\n",
        "\n",
        "weights_init(model)"
      ],
      "execution_count": 91,
      "outputs": []
    },
    {
      "cell_type": "code",
      "metadata": {
        "id": "WrD_sNzLx78e"
      },
      "source": [
        "loss_func = nn.L1Loss()"
      ],
      "execution_count": 92,
      "outputs": []
    },
    {
      "cell_type": "code",
      "metadata": {
        "id": "-zvbrMd2x_lA"
      },
      "source": [
        "optimizer = optim.SGD(model.parameters(), lr=0.02, momentum=0.9)\n"
      ],
      "execution_count": 93,
      "outputs": []
    },
    {
      "cell_type": "code",
      "metadata": {
        "colab": {
          "base_uri": "https://localhost:8080/"
        },
        "id": "q7tWa3D7yA5X",
        "outputId": "05e1e06a-1f1f-464e-8ad8-3a97f895eae4"
      },
      "source": [
        "epochs = 2001\n",
        "steps = X.size(0)\n",
        "for i in range(epochs):\n",
        "    for j in range(steps):\n",
        "        data_point = np.random.randint(X.size(0))\n",
        "        x_var = Variable(X[data_point], requires_grad=False)\n",
        "        y_var = Variable(Y[data_point], requires_grad=False)\n",
        "        \n",
        "        optimizer.zero_grad()\n",
        "        y_hat = model(x_var)\n",
        "        loss = loss_func.forward(y_hat, y_var)\n",
        "        loss.backward()\n",
        "        optimizer.step()\n",
        "        \n",
        "    if i % 50 == 0:\n",
        "        print( \"Epoch: {0}, Loss: {1}, \".format(i, loss.data.numpy()))"
      ],
      "execution_count": 94,
      "outputs": [
        {
          "output_type": "stream",
          "text": [
            "/usr/local/lib/python3.7/dist-packages/torch/nn/functional.py:1698: UserWarning: nn.functional.tanh is deprecated. Use torch.tanh instead.\n",
            "  warnings.warn(\"nn.functional.tanh is deprecated. Use torch.tanh instead.\")\n"
          ],
          "name": "stderr"
        },
        {
          "output_type": "stream",
          "text": [
            "Epoch: 0, Loss: 0.5742778778076172, \n",
            "Epoch: 50, Loss: 0.09678220748901367, \n",
            "Epoch: 100, Loss: 0.05382955074310303, \n",
            "Epoch: 150, Loss: 0.09280753135681152, \n",
            "Epoch: 200, Loss: 0.2199857234954834, \n",
            "Epoch: 250, Loss: 0.1444309949874878, \n",
            "Epoch: 300, Loss: 0.16817539930343628, \n",
            "Epoch: 350, Loss: 0.04621613025665283, \n",
            "Epoch: 400, Loss: 0.35518062114715576, \n",
            "Epoch: 450, Loss: 0.05204153060913086, \n",
            "Epoch: 500, Loss: 0.062314748764038086, \n",
            "Epoch: 550, Loss: 0.32448434829711914, \n",
            "Epoch: 600, Loss: 0.12731271982192993, \n",
            "Epoch: 650, Loss: 0.1819084882736206, \n",
            "Epoch: 700, Loss: 0.1527336835861206, \n",
            "Epoch: 750, Loss: 0.0809970498085022, \n",
            "Epoch: 800, Loss: 0.027480721473693848, \n",
            "Epoch: 850, Loss: 0.26630687713623047, \n",
            "Epoch: 900, Loss: 0.2029772400856018, \n",
            "Epoch: 950, Loss: 0.038854122161865234, \n",
            "Epoch: 1000, Loss: 0.3592895269393921, \n",
            "Epoch: 1050, Loss: 0.015764713287353516, \n",
            "Epoch: 1100, Loss: 0.022838711738586426, \n",
            "Epoch: 1150, Loss: 0.08948242664337158, \n",
            "Epoch: 1200, Loss: 0.26615428924560547, \n",
            "Epoch: 1250, Loss: 0.07743799686431885, \n",
            "Epoch: 1300, Loss: 0.2737220525741577, \n",
            "Epoch: 1350, Loss: 0.20249724388122559, \n",
            "Epoch: 1400, Loss: 0.3449196219444275, \n",
            "Epoch: 1450, Loss: 0.06514239311218262, \n",
            "Epoch: 1500, Loss: 0.3081514835357666, \n",
            "Epoch: 1550, Loss: 0.6611233353614807, \n",
            "Epoch: 1600, Loss: 0.04556584358215332, \n",
            "Epoch: 1650, Loss: 0.14799439907073975, \n",
            "Epoch: 1700, Loss: 0.16056960821151733, \n",
            "Epoch: 1750, Loss: 0.10077431797981262, \n",
            "Epoch: 1800, Loss: 0.030021965503692627, \n",
            "Epoch: 1850, Loss: 0.37518513202667236, \n",
            "Epoch: 1900, Loss: 0.017794489860534668, \n",
            "Epoch: 1950, Loss: 0.20241910219192505, \n",
            "Epoch: 2000, Loss: 0.1092919111251831, \n"
          ],
          "name": "stdout"
        }
      ]
    },
    {
      "cell_type": "code",
      "metadata": {
        "id": "QV0dIdveyCRi"
      },
      "source": [
        ""
      ],
      "execution_count": 20,
      "outputs": []
    }
  ]
}